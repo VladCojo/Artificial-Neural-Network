{
 "cells": [
  {
   "cell_type": "code",
   "execution_count": 3,
   "id": "45b0492b",
   "metadata": {},
   "outputs": [],
   "source": [
    "import numpy as np\n",
    "import pandas as pd\n",
    "import tensorflow as tf"
   ]
  },
  {
   "cell_type": "markdown",
   "id": "e8c03d00",
   "metadata": {},
   "source": [
    "# Data preprocessing"
   ]
  },
  {
   "cell_type": "code",
   "execution_count": 5,
   "id": "3d0e11dd",
   "metadata": {},
   "outputs": [],
   "source": [
    "dataset = pd.read_csv('Churn_Modelling.csv')\n",
    "X = dataset.iloc[:, 3:-1].values\n",
    "y = dataset.iloc[:, -1].values"
   ]
  },
  {
   "cell_type": "code",
   "execution_count": 6,
   "id": "0d321bd7",
   "metadata": {},
   "outputs": [
    {
     "name": "stdout",
     "output_type": "stream",
     "text": [
      "[[619 'France' 'Female' ... 1 1 101348.88]\n",
      " [608 'Spain' 'Female' ... 0 1 112542.58]\n",
      " [502 'France' 'Female' ... 1 0 113931.57]\n",
      " ...\n",
      " [709 'France' 'Female' ... 0 1 42085.58]\n",
      " [772 'Germany' 'Male' ... 1 0 92888.52]\n",
      " [792 'France' 'Female' ... 1 0 38190.78]]\n"
     ]
    }
   ],
   "source": [
    "print(X)"
   ]
  },
  {
   "cell_type": "code",
   "execution_count": 7,
   "id": "39b2c916",
   "metadata": {},
   "outputs": [
    {
     "name": "stdout",
     "output_type": "stream",
     "text": [
      "[1 0 1 ... 1 1 0]\n"
     ]
    }
   ],
   "source": [
    "print(y)"
   ]
  },
  {
   "cell_type": "markdown",
   "id": "0e99a9bc",
   "metadata": {},
   "source": [
    "## Label Encoding the \"Gender\" column"
   ]
  },
  {
   "cell_type": "code",
   "execution_count": 8,
   "id": "a208d73b",
   "metadata": {},
   "outputs": [],
   "source": [
    "from sklearn.preprocessing import LabelEncoder\n",
    "le = LabelEncoder()\n",
    "X[:, 2] = le.fit_transform(X[:, 2])"
   ]
  },
  {
   "cell_type": "code",
   "execution_count": 9,
   "id": "e3e8c88d",
   "metadata": {},
   "outputs": [
    {
     "name": "stdout",
     "output_type": "stream",
     "text": [
      "[[619 'France' 0 ... 1 1 101348.88]\n",
      " [608 'Spain' 0 ... 0 1 112542.58]\n",
      " [502 'France' 0 ... 1 0 113931.57]\n",
      " ...\n",
      " [709 'France' 0 ... 0 1 42085.58]\n",
      " [772 'Germany' 1 ... 1 0 92888.52]\n",
      " [792 'France' 0 ... 1 0 38190.78]]\n"
     ]
    }
   ],
   "source": [
    "print(X)"
   ]
  },
  {
   "cell_type": "markdown",
   "id": "9f3480a5",
   "metadata": {},
   "source": [
    "## One Hot Encoding the \"Geography\" column"
   ]
  },
  {
   "cell_type": "code",
   "execution_count": 10,
   "id": "9513493f",
   "metadata": {},
   "outputs": [],
   "source": [
    "from sklearn.compose import ColumnTransformer\n",
    "from sklearn.preprocessing import OneHotEncoder\n",
    "ct = ColumnTransformer(transformers=[('encoder', OneHotEncoder(), [1])], remainder='passthrough')\n",
    "X = np.array(ct.fit_transform(X))"
   ]
  },
  {
   "cell_type": "code",
   "execution_count": 11,
   "id": "5f936fb6",
   "metadata": {},
   "outputs": [
    {
     "name": "stdout",
     "output_type": "stream",
     "text": [
      "[[1.0 0.0 0.0 ... 1 1 101348.88]\n",
      " [0.0 0.0 1.0 ... 0 1 112542.58]\n",
      " [1.0 0.0 0.0 ... 1 0 113931.57]\n",
      " ...\n",
      " [1.0 0.0 0.0 ... 0 1 42085.58]\n",
      " [0.0 1.0 0.0 ... 1 0 92888.52]\n",
      " [1.0 0.0 0.0 ... 1 0 38190.78]]\n"
     ]
    }
   ],
   "source": [
    "print(X)"
   ]
  },
  {
   "cell_type": "markdown",
   "id": "15826e45",
   "metadata": {},
   "source": [
    "## Splitting the dataset"
   ]
  },
  {
   "cell_type": "code",
   "execution_count": 13,
   "id": "dc5bd796",
   "metadata": {},
   "outputs": [],
   "source": [
    "from sklearn.model_selection import train_test_split\n",
    "X_train, X_test, y_train, y_test = train_test_split(X, y, test_size = 0.2, random_state = 0)"
   ]
  },
  {
   "cell_type": "markdown",
   "id": "c77bc30c",
   "metadata": {},
   "source": [
    "## Feature Scaling"
   ]
  },
  {
   "cell_type": "code",
   "execution_count": 14,
   "id": "a1a9155a",
   "metadata": {},
   "outputs": [],
   "source": [
    "from sklearn.preprocessing import StandardScaler\n",
    "sc = StandardScaler()\n",
    "X_train = sc.fit_transform(X_train)\n",
    "X_test = sc.transform(X_test)"
   ]
  },
  {
   "cell_type": "markdown",
   "id": "57300c05",
   "metadata": {},
   "source": [
    "# Building the ANN"
   ]
  },
  {
   "cell_type": "code",
   "execution_count": 15,
   "id": "ff7c38b6",
   "metadata": {},
   "outputs": [
    {
     "name": "stderr",
     "output_type": "stream",
     "text": [
      "2024-02-12 13:50:58.155796: I external/local_xla/xla/stream_executor/cuda/cuda_executor.cc:901] successful NUMA node read from SysFS had negative value (-1), but there must be at least one NUMA node, so returning NUMA node zero. See more at https://github.com/torvalds/linux/blob/v6.0/Documentation/ABI/testing/sysfs-bus-pci#L344-L355\n",
      "2024-02-12 13:50:58.156598: W tensorflow/core/common_runtime/gpu/gpu_device.cc:2256] Cannot dlopen some GPU libraries. Please make sure the missing libraries mentioned above are installed properly if you would like to use GPU. Follow the guide at https://www.tensorflow.org/install/gpu for how to download and setup the required libraries for your platform.\n",
      "Skipping registering GPU devices...\n"
     ]
    }
   ],
   "source": [
    "ann = tf.keras.models.Sequential()"
   ]
  },
  {
   "cell_type": "code",
   "execution_count": 16,
   "id": "f6b1dc33",
   "metadata": {},
   "outputs": [],
   "source": [
    "ann.add(tf.keras.layers.Dense(units=6, activation='relu'))"
   ]
  },
  {
   "cell_type": "code",
   "execution_count": 17,
   "id": "e375f46c",
   "metadata": {},
   "outputs": [],
   "source": [
    "ann.add(tf.keras.layers.Dense(units=6, activation='relu'))"
   ]
  },
  {
   "cell_type": "code",
   "execution_count": 18,
   "id": "ff6dda2f",
   "metadata": {},
   "outputs": [],
   "source": [
    "ann.add(tf.keras.layers.Dense(units=1, activation='sigmoid'))"
   ]
  },
  {
   "cell_type": "markdown",
   "id": "d8e802af",
   "metadata": {},
   "source": [
    "# Training the ANN"
   ]
  },
  {
   "cell_type": "code",
   "execution_count": 19,
   "id": "34fb9232",
   "metadata": {},
   "outputs": [],
   "source": [
    "ann.compile(optimizer = 'adam', loss = 'binary_crossentropy', metrics = ['accuracy'])"
   ]
  },
  {
   "cell_type": "code",
   "execution_count": 20,
   "id": "bfe9f1f7",
   "metadata": {},
   "outputs": [
    {
     "name": "stdout",
     "output_type": "stream",
     "text": [
      "Epoch 1/100\n",
      "250/250 [==============================] - 1s 888us/step - loss: 0.6573 - accuracy: 0.6261\n",
      "Epoch 2/100\n",
      "250/250 [==============================] - 0s 857us/step - loss: 0.4468 - accuracy: 0.8176\n",
      "Epoch 3/100\n",
      "250/250 [==============================] - 0s 859us/step - loss: 0.4197 - accuracy: 0.8250\n",
      "Epoch 4/100\n",
      "250/250 [==============================] - 0s 903us/step - loss: 0.4104 - accuracy: 0.8270\n",
      "Epoch 5/100\n",
      "250/250 [==============================] - 0s 890us/step - loss: 0.4048 - accuracy: 0.8271\n",
      "Epoch 6/100\n",
      "250/250 [==============================] - 0s 1ms/step - loss: 0.4003 - accuracy: 0.8292\n",
      "Epoch 7/100\n",
      "250/250 [==============================] - 0s 987us/step - loss: 0.3967 - accuracy: 0.8304\n",
      "Epoch 8/100\n",
      "250/250 [==============================] - 0s 1ms/step - loss: 0.3934 - accuracy: 0.8317\n",
      "Epoch 9/100\n",
      "250/250 [==============================] - 0s 871us/step - loss: 0.3903 - accuracy: 0.8321\n",
      "Epoch 10/100\n",
      "250/250 [==============================] - 0s 859us/step - loss: 0.3876 - accuracy: 0.8319\n",
      "Epoch 11/100\n",
      "250/250 [==============================] - 0s 972us/step - loss: 0.3854 - accuracy: 0.8310\n",
      "Epoch 12/100\n",
      "250/250 [==============================] - 0s 947us/step - loss: 0.3828 - accuracy: 0.8335\n",
      "Epoch 13/100\n",
      "250/250 [==============================] - 0s 952us/step - loss: 0.3814 - accuracy: 0.8329\n",
      "Epoch 14/100\n",
      "250/250 [==============================] - 0s 918us/step - loss: 0.3790 - accuracy: 0.8353\n",
      "Epoch 15/100\n",
      "250/250 [==============================] - 0s 916us/step - loss: 0.3770 - accuracy: 0.8366\n",
      "Epoch 16/100\n",
      "250/250 [==============================] - 0s 913us/step - loss: 0.3750 - accuracy: 0.8366\n",
      "Epoch 17/100\n",
      "250/250 [==============================] - 0s 872us/step - loss: 0.3735 - accuracy: 0.8379\n",
      "Epoch 18/100\n",
      "250/250 [==============================] - 0s 837us/step - loss: 0.3717 - accuracy: 0.8400\n",
      "Epoch 19/100\n",
      "250/250 [==============================] - 0s 935us/step - loss: 0.3708 - accuracy: 0.8400\n",
      "Epoch 20/100\n",
      "250/250 [==============================] - 0s 929us/step - loss: 0.3691 - accuracy: 0.8419\n",
      "Epoch 21/100\n",
      "250/250 [==============================] - 0s 911us/step - loss: 0.3675 - accuracy: 0.8420\n",
      "Epoch 22/100\n",
      "250/250 [==============================] - 0s 929us/step - loss: 0.3660 - accuracy: 0.8438\n",
      "Epoch 23/100\n",
      "250/250 [==============================] - 0s 905us/step - loss: 0.3643 - accuracy: 0.8450\n",
      "Epoch 24/100\n",
      "250/250 [==============================] - 0s 869us/step - loss: 0.3629 - accuracy: 0.8462\n",
      "Epoch 25/100\n",
      "250/250 [==============================] - 0s 840us/step - loss: 0.3614 - accuracy: 0.8493\n",
      "Epoch 26/100\n",
      "250/250 [==============================] - 0s 883us/step - loss: 0.3602 - accuracy: 0.8490\n",
      "Epoch 27/100\n",
      "250/250 [==============================] - 0s 1ms/step - loss: 0.3584 - accuracy: 0.8494\n",
      "Epoch 28/100\n",
      "250/250 [==============================] - 0s 1ms/step - loss: 0.3569 - accuracy: 0.8508\n",
      "Epoch 29/100\n",
      "250/250 [==============================] - 0s 889us/step - loss: 0.3562 - accuracy: 0.8501\n",
      "Epoch 30/100\n",
      "250/250 [==============================] - 0s 889us/step - loss: 0.3546 - accuracy: 0.8540\n",
      "Epoch 31/100\n",
      "250/250 [==============================] - 0s 913us/step - loss: 0.3532 - accuracy: 0.8537\n",
      "Epoch 32/100\n",
      "250/250 [==============================] - 0s 921us/step - loss: 0.3516 - accuracy: 0.8543\n",
      "Epoch 33/100\n",
      "250/250 [==============================] - 0s 900us/step - loss: 0.3508 - accuracy: 0.8556\n",
      "Epoch 34/100\n",
      "250/250 [==============================] - 0s 855us/step - loss: 0.3491 - accuracy: 0.8575\n",
      "Epoch 35/100\n",
      "250/250 [==============================] - 0s 869us/step - loss: 0.3489 - accuracy: 0.8562\n",
      "Epoch 36/100\n",
      "250/250 [==============================] - 0s 925us/step - loss: 0.3479 - accuracy: 0.8600\n",
      "Epoch 37/100\n",
      "250/250 [==============================] - 0s 953us/step - loss: 0.3469 - accuracy: 0.8566\n",
      "Epoch 38/100\n",
      "250/250 [==============================] - 0s 923us/step - loss: 0.3465 - accuracy: 0.8601\n",
      "Epoch 39/100\n",
      "250/250 [==============================] - 0s 912us/step - loss: 0.3457 - accuracy: 0.8584\n",
      "Epoch 40/100\n",
      "250/250 [==============================] - 0s 830us/step - loss: 0.3450 - accuracy: 0.8585\n",
      "Epoch 41/100\n",
      "250/250 [==============================] - 0s 779us/step - loss: 0.3445 - accuracy: 0.8605\n",
      "Epoch 42/100\n",
      "250/250 [==============================] - 0s 731us/step - loss: 0.3440 - accuracy: 0.8604\n",
      "Epoch 43/100\n",
      "250/250 [==============================] - 0s 842us/step - loss: 0.3435 - accuracy: 0.8605\n",
      "Epoch 44/100\n",
      "250/250 [==============================] - 0s 898us/step - loss: 0.3430 - accuracy: 0.8605\n",
      "Epoch 45/100\n",
      "250/250 [==============================] - 0s 840us/step - loss: 0.3429 - accuracy: 0.8600\n",
      "Epoch 46/100\n",
      "250/250 [==============================] - 0s 845us/step - loss: 0.3428 - accuracy: 0.8604\n",
      "Epoch 47/100\n",
      "250/250 [==============================] - 0s 876us/step - loss: 0.3419 - accuracy: 0.8599\n",
      "Epoch 48/100\n",
      "250/250 [==============================] - 0s 784us/step - loss: 0.3423 - accuracy: 0.8601\n",
      "Epoch 49/100\n",
      "250/250 [==============================] - 0s 716us/step - loss: 0.3418 - accuracy: 0.8599\n",
      "Epoch 50/100\n",
      "250/250 [==============================] - 0s 905us/step - loss: 0.3415 - accuracy: 0.8611\n",
      "Epoch 51/100\n",
      "250/250 [==============================] - 0s 798us/step - loss: 0.3404 - accuracy: 0.8590\n",
      "Epoch 52/100\n",
      "250/250 [==============================] - 0s 954us/step - loss: 0.3411 - accuracy: 0.8625\n",
      "Epoch 53/100\n",
      "250/250 [==============================] - 0s 900us/step - loss: 0.3405 - accuracy: 0.8629\n",
      "Epoch 54/100\n",
      "250/250 [==============================] - 0s 833us/step - loss: 0.3406 - accuracy: 0.8616\n",
      "Epoch 55/100\n",
      "250/250 [==============================] - 0s 915us/step - loss: 0.3404 - accuracy: 0.8631\n",
      "Epoch 56/100\n",
      "250/250 [==============================] - 0s 907us/step - loss: 0.3400 - accuracy: 0.8629\n",
      "Epoch 57/100\n",
      "250/250 [==============================] - 0s 919us/step - loss: 0.3399 - accuracy: 0.8615\n",
      "Epoch 58/100\n",
      "250/250 [==============================] - 0s 924us/step - loss: 0.3397 - accuracy: 0.8614\n",
      "Epoch 59/100\n",
      "250/250 [==============================] - 0s 858us/step - loss: 0.3390 - accuracy: 0.8621\n",
      "Epoch 60/100\n",
      "250/250 [==============================] - 0s 865us/step - loss: 0.3393 - accuracy: 0.8631\n",
      "Epoch 61/100\n",
      "250/250 [==============================] - 0s 830us/step - loss: 0.3395 - accuracy: 0.8602\n",
      "Epoch 62/100\n",
      "250/250 [==============================] - 0s 786us/step - loss: 0.3392 - accuracy: 0.8612\n",
      "Epoch 63/100\n",
      "250/250 [==============================] - 0s 883us/step - loss: 0.3388 - accuracy: 0.8615\n",
      "Epoch 64/100\n",
      "250/250 [==============================] - 0s 849us/step - loss: 0.3386 - accuracy: 0.8629\n",
      "Epoch 65/100\n",
      "250/250 [==============================] - 0s 855us/step - loss: 0.3386 - accuracy: 0.8627\n",
      "Epoch 66/100\n",
      "250/250 [==============================] - 0s 820us/step - loss: 0.3381 - accuracy: 0.8624\n",
      "Epoch 67/100\n",
      "250/250 [==============================] - 0s 791us/step - loss: 0.3382 - accuracy: 0.8645\n",
      "Epoch 68/100\n",
      "250/250 [==============================] - 0s 849us/step - loss: 0.3380 - accuracy: 0.8634\n",
      "Epoch 69/100\n",
      "250/250 [==============================] - 0s 952us/step - loss: 0.3379 - accuracy: 0.8625\n",
      "Epoch 70/100\n",
      "250/250 [==============================] - 0s 906us/step - loss: 0.3377 - accuracy: 0.8633\n",
      "Epoch 71/100\n",
      "250/250 [==============================] - 0s 842us/step - loss: 0.3376 - accuracy: 0.8625\n",
      "Epoch 72/100\n",
      "250/250 [==============================] - 0s 879us/step - loss: 0.3379 - accuracy: 0.8622\n",
      "Epoch 73/100\n",
      "250/250 [==============================] - 0s 879us/step - loss: 0.3373 - accuracy: 0.8629\n",
      "Epoch 74/100\n",
      "250/250 [==============================] - 0s 894us/step - loss: 0.3375 - accuracy: 0.8616\n",
      "Epoch 75/100\n",
      "250/250 [==============================] - 0s 897us/step - loss: 0.3374 - accuracy: 0.8644\n",
      "Epoch 76/100\n",
      "250/250 [==============================] - 0s 881us/step - loss: 0.3378 - accuracy: 0.8605\n",
      "Epoch 77/100\n",
      "250/250 [==============================] - 0s 860us/step - loss: 0.3370 - accuracy: 0.8630\n",
      "Epoch 78/100\n",
      "250/250 [==============================] - 0s 906us/step - loss: 0.3368 - accuracy: 0.8631\n",
      "Epoch 79/100\n",
      "250/250 [==============================] - 0s 891us/step - loss: 0.3378 - accuracy: 0.8620\n"
     ]
    },
    {
     "name": "stdout",
     "output_type": "stream",
     "text": [
      "Epoch 80/100\n",
      "250/250 [==============================] - 0s 850us/step - loss: 0.3367 - accuracy: 0.8629\n",
      "Epoch 81/100\n",
      "250/250 [==============================] - 0s 897us/step - loss: 0.3368 - accuracy: 0.8624\n",
      "Epoch 82/100\n",
      "250/250 [==============================] - 0s 917us/step - loss: 0.3362 - accuracy: 0.8654\n",
      "Epoch 83/100\n",
      "250/250 [==============================] - 0s 952us/step - loss: 0.3362 - accuracy: 0.8650\n",
      "Epoch 84/100\n",
      "250/250 [==============================] - 0s 963us/step - loss: 0.3367 - accuracy: 0.8635\n",
      "Epoch 85/100\n",
      "250/250 [==============================] - 0s 949us/step - loss: 0.3368 - accuracy: 0.8626\n",
      "Epoch 86/100\n",
      "250/250 [==============================] - 0s 935us/step - loss: 0.3363 - accuracy: 0.8635\n",
      "Epoch 87/100\n",
      "250/250 [==============================] - 0s 886us/step - loss: 0.3366 - accuracy: 0.8631\n",
      "Epoch 88/100\n",
      "250/250 [==============================] - 0s 802us/step - loss: 0.3364 - accuracy: 0.8634\n",
      "Epoch 89/100\n",
      "250/250 [==============================] - 0s 1ms/step - loss: 0.3360 - accuracy: 0.8637\n",
      "Epoch 90/100\n",
      "250/250 [==============================] - 0s 859us/step - loss: 0.3366 - accuracy: 0.8635\n",
      "Epoch 91/100\n",
      "250/250 [==============================] - 0s 879us/step - loss: 0.3363 - accuracy: 0.8619\n",
      "Epoch 92/100\n",
      "250/250 [==============================] - 0s 855us/step - loss: 0.3362 - accuracy: 0.8634\n",
      "Epoch 93/100\n",
      "250/250 [==============================] - 0s 877us/step - loss: 0.3358 - accuracy: 0.8654\n",
      "Epoch 94/100\n",
      "250/250 [==============================] - 0s 918us/step - loss: 0.3358 - accuracy: 0.8636\n",
      "Epoch 95/100\n",
      "250/250 [==============================] - 0s 945us/step - loss: 0.3362 - accuracy: 0.8635\n",
      "Epoch 96/100\n",
      "250/250 [==============================] - 0s 908us/step - loss: 0.3357 - accuracy: 0.8637\n",
      "Epoch 97/100\n",
      "250/250 [==============================] - 0s 902us/step - loss: 0.3357 - accuracy: 0.8656\n",
      "Epoch 98/100\n",
      "250/250 [==============================] - 0s 1ms/step - loss: 0.3359 - accuracy: 0.8618\n",
      "Epoch 99/100\n",
      "250/250 [==============================] - 0s 1ms/step - loss: 0.3360 - accuracy: 0.8639\n",
      "Epoch 100/100\n",
      "250/250 [==============================] - 0s 879us/step - loss: 0.3361 - accuracy: 0.8630\n"
     ]
    },
    {
     "data": {
      "text/plain": [
       "<keras.src.callbacks.History at 0x7f1d65bb2050>"
      ]
     },
     "execution_count": 20,
     "metadata": {},
     "output_type": "execute_result"
    }
   ],
   "source": [
    "ann.fit(X_train, y_train, batch_size = 32, epochs = 100)"
   ]
  },
  {
   "cell_type": "markdown",
   "id": "4466a173",
   "metadata": {},
   "source": [
    "# Predict test set result"
   ]
  },
  {
   "cell_type": "code",
   "execution_count": 21,
   "id": "3f5bb7e6",
   "metadata": {},
   "outputs": [
    {
     "name": "stdout",
     "output_type": "stream",
     "text": [
      "63/63 [==============================] - 0s 641us/step\n",
      "[[0 0]\n",
      " [0 1]\n",
      " [0 0]\n",
      " ...\n",
      " [0 0]\n",
      " [0 0]\n",
      " [0 0]]\n"
     ]
    }
   ],
   "source": [
    "y_pred = ann.predict(X_test)\n",
    "y_pred = (y_pred > 0.5)\n",
    "print(np.concatenate((y_pred.reshape(len(y_pred),1), y_test.reshape(len(y_test),1)),1))"
   ]
  },
  {
   "cell_type": "markdown",
   "id": "f7c52ee7",
   "metadata": {},
   "source": [
    "# Confusion matrix"
   ]
  },
  {
   "cell_type": "code",
   "execution_count": 22,
   "id": "0b69dac4",
   "metadata": {},
   "outputs": [
    {
     "name": "stdout",
     "output_type": "stream",
     "text": [
      "[[1524   71]\n",
      " [ 204  201]]\n"
     ]
    },
    {
     "data": {
      "text/plain": [
       "0.8625"
      ]
     },
     "execution_count": 22,
     "metadata": {},
     "output_type": "execute_result"
    }
   ],
   "source": [
    "from sklearn.metrics import confusion_matrix, accuracy_score\n",
    "cm = confusion_matrix(y_test, y_pred)\n",
    "print(cm)\n",
    "accuracy_score(y_test, y_pred)"
   ]
  },
  {
   "cell_type": "code",
   "execution_count": null,
   "id": "d06a2238",
   "metadata": {},
   "outputs": [],
   "source": []
  }
 ],
 "metadata": {
  "kernelspec": {
   "display_name": "Python 3 (ipykernel)",
   "language": "python",
   "name": "python3"
  },
  "language_info": {
   "codemirror_mode": {
    "name": "ipython",
    "version": 3
   },
   "file_extension": ".py",
   "mimetype": "text/x-python",
   "name": "python",
   "nbconvert_exporter": "python",
   "pygments_lexer": "ipython3",
   "version": "3.11.5"
  }
 },
 "nbformat": 4,
 "nbformat_minor": 5
}
